{
 "cells": [
  {
   "cell_type": "code",
   "execution_count": 1,
   "id": "a8042df9-67ea-4797-8aeb-745b2d8e76ec",
   "metadata": {
    "tags": []
   },
   "outputs": [],
   "source": [
    "import pandas as pd\n",
    "import numpy as np\n",
    "import matplotlib.pyplot as plt\n",
    "\n",
    "from sklearn.model_selection import train_test_split\n",
    "from sklearn.feature_extraction import DictVectorizer\n",
    "from sklearn.linear_model import LogisticRegression\n",
    "from sklearn.metrics import roc_auc_score\n",
    "\n",
    "from sklearn.model_selection import KFold"
   ]
  },
  {
   "cell_type": "code",
   "execution_count": 2,
   "id": "5c6d7c83-0a16-4012-b492-84817d09376f",
   "metadata": {
    "tags": []
   },
   "outputs": [],
   "source": [
    "# Data Preparation\n",
    "df = pd.read_csv(r\"C:\\Users\\Herald\\Documents\\ML_Zoomcamp\\03_classification\\Telco-Customer-Churn.csv\")\n",
    "\n",
    "# Clean columns names\n",
    "df.columns = df.columns.str.lower().str.replace(' ', '_')\n",
    "\n",
    "# Clean Categorical values\n",
    "categorical_cols = list(df.dtypes[df.dtypes == 'object'].index)\n",
    "\n",
    "for col in categorical_cols:\n",
    "    df[col] = df[col].str.lower().str.replace(' ', '_')\n",
    "    \n",
    "# totalcharges is currently an object type and should be a float type\n",
    "df.totalcharges = pd.to_numeric(df.totalcharges, errors='coerce').fillna(0)\n",
    "# Convert this to int 0 and 1\n",
    "df.churn = (df.churn == 'yes').astype(int)"
   ]
  },
  {
   "cell_type": "code",
   "execution_count": 3,
   "id": "14fb3c3e-049f-4c98-bbf8-e4898d996fc9",
   "metadata": {
    "tags": []
   },
   "outputs": [],
   "source": [
    "df_full_train, df_test = train_test_split(df, test_size=0.2, random_state=1)"
   ]
  },
  {
   "cell_type": "code",
   "execution_count": 4,
   "id": "08306cb7-cbfb-4d94-975e-9520e4182fb1",
   "metadata": {
    "tags": []
   },
   "outputs": [],
   "source": [
    "# Group numerical categories\n",
    "numerical = ['tenure', 'monthlycharges', 'totalcharges']\n",
    "categorical = [col for col in df_full_train.columns if col not in numerical and col != 'churn' and col != 'customerid']"
   ]
  },
  {
   "cell_type": "code",
   "execution_count": 5,
   "id": "8fe9003d-6bfd-4a43-847d-89aa270a46d0",
   "metadata": {
    "tags": []
   },
   "outputs": [],
   "source": [
    "def train(df_train, y_train, C=1.0):\n",
    "    dicts = df_train[categorical + numerical].to_dict(orient='records')\n",
    "    \n",
    "    dv = DictVectorizer(sparse=False)\n",
    "    X_train = dv.fit_transform(dicts)\n",
    "    \n",
    "    model = LogisticRegression(C=C, max_iter=1000)\n",
    "    model.fit(X_train, y_train)\n",
    "    \n",
    "    return dv, model"
   ]
  },
  {
   "cell_type": "code",
   "execution_count": 6,
   "id": "b5d5732b-44b9-42b7-aee2-2a40c90cd998",
   "metadata": {
    "tags": []
   },
   "outputs": [],
   "source": [
    "def predict(df, dv, model):\n",
    "    dicts = df[categorical + numerical].to_dict(orient='records')\n",
    "    \n",
    "    X = dv.transform(dicts)\n",
    "    y_pred = model.predict_proba(X)[:, 1]\n",
    "    \n",
    "    return y_pred"
   ]
  },
  {
   "cell_type": "code",
   "execution_count": 7,
   "id": "ac5fed61-61c7-4032-9b2e-0e8cb4620c4a",
   "metadata": {
    "tags": []
   },
   "outputs": [],
   "source": [
    "C = 1.0\n",
    "n_splits = 5"
   ]
  },
  {
   "cell_type": "code",
   "execution_count": 8,
   "id": "8ac0dbdc-5c68-4d30-b4d9-8bdda1cef1b5",
   "metadata": {
    "tags": []
   },
   "outputs": [
    {
     "name": "stdout",
     "output_type": "stream",
     "text": [
      "C= 1.0, 0.840 +- 0.008\n"
     ]
    }
   ],
   "source": [
    "# Lets loop on our kfold splits\n",
    "kfold = KFold(n_splits=n_splits, shuffle=True, random_state=1)\n",
    "\n",
    "scores = []\n",
    "\n",
    "for train_idx, val_idx in kfold.split(df_full_train):\n",
    "    df_train = df_full_train.iloc[train_idx]\n",
    "    df_val = df_full_train.iloc[val_idx]\n",
    "    \n",
    "    y_train = df_train.churn.values\n",
    "    y_val = df_val.churn.values\n",
    "    \n",
    "    dv, model = train(df_train, y_train, C=C)\n",
    "    y_pred = predict(df_val, dv, model)\n",
    "    \n",
    "    auc = roc_auc_score(y_val, y_pred)\n",
    "    scores.append(auc)\n",
    "    \n",
    "print('C= %s, %.3f +- %.3f' % (C, np.mean(scores), np.std(scores)))"
   ]
  },
  {
   "cell_type": "code",
   "execution_count": 9,
   "id": "40f05986-429f-451d-ae39-0e1ed608d3b8",
   "metadata": {
    "tags": []
   },
   "outputs": [
    {
     "data": {
      "text/plain": [
       "[0.8423436506503599,\n",
       " 0.8456888988213482,\n",
       " 0.8311780052177403,\n",
       " 0.8301724275756219,\n",
       " 0.8522206708292805]"
      ]
     },
     "execution_count": 9,
     "metadata": {},
     "output_type": "execute_result"
    }
   ],
   "source": [
    "scores"
   ]
  },
  {
   "cell_type": "code",
   "execution_count": 10,
   "id": "5d7f4491-cbcf-4ff3-a782-937af5666c28",
   "metadata": {
    "tags": []
   },
   "outputs": [
    {
     "data": {
      "text/plain": [
       "0.8572386167896259"
      ]
     },
     "execution_count": 10,
     "metadata": {},
     "output_type": "execute_result"
    }
   ],
   "source": [
    "dv, model = train(df_full_train, df_full_train.churn.values, C=C)\n",
    "y_pred = predict(df_test, dv, model)\n",
    "\n",
    "y_test = df_test.churn.values\n",
    "auc = roc_auc_score(y_test, y_pred)\n",
    "auc"
   ]
  },
  {
   "cell_type": "markdown",
   "id": "9a45dff1-c90a-42ec-91c9-4890304cf97e",
   "metadata": {},
   "source": [
    "# Save the Model"
   ]
  },
  {
   "cell_type": "code",
   "execution_count": 11,
   "id": "678685e4-1f88-445a-9a4d-92f806a983d1",
   "metadata": {
    "tags": []
   },
   "outputs": [],
   "source": [
    "import pickle"
   ]
  },
  {
   "cell_type": "code",
   "execution_count": 12,
   "id": "3cedd85a-de81-43d0-b08a-30bbe8e27615",
   "metadata": {},
   "outputs": [
    {
     "data": {
      "text/plain": [
       "'model_C=1.0.bin'"
      ]
     },
     "execution_count": 12,
     "metadata": {},
     "output_type": "execute_result"
    }
   ],
   "source": [
    "output_file = f'model_C={C}.bin'\n",
    "output_file"
   ]
  },
  {
   "cell_type": "code",
   "execution_count": 13,
   "id": "9ea131c6-5665-412b-8cc1-ad1cdd654e08",
   "metadata": {
    "tags": []
   },
   "outputs": [],
   "source": [
    "f_out = open(output_file, 'wb') # write to the file\n",
    "pickle.dump((dv, model), f_out)\n",
    "f_out.close()"
   ]
  },
  {
   "cell_type": "code",
   "execution_count": 14,
   "id": "b38548a5-31e7-4074-a81a-67e4ba6b7412",
   "metadata": {
    "tags": []
   },
   "outputs": [],
   "source": [
    "# A better way to write the code above (avoid forgetting to close the file)\n",
    "with open(output_file, 'wb') as f_out:\n",
    "    pickle.dump((dv, model), f_out)"
   ]
  },
  {
   "cell_type": "markdown",
   "id": "a5e2eef1-0a90-4056-a124-046a110d1191",
   "metadata": {},
   "source": [
    "# Load the Model"
   ]
  },
  {
   "cell_type": "code",
   "execution_count": 1,
   "id": "3284f89a-6e88-4a92-a7b8-a73421cdc809",
   "metadata": {
    "tags": []
   },
   "outputs": [],
   "source": [
    "import pickle"
   ]
  },
  {
   "cell_type": "code",
   "execution_count": 2,
   "id": "67fb4259-9140-4b41-88fc-1c9059dcc3d0",
   "metadata": {
    "tags": []
   },
   "outputs": [],
   "source": [
    "model_file = 'model_C=1.0.bin'"
   ]
  },
  {
   "cell_type": "code",
   "execution_count": 3,
   "id": "b085a400-2001-43a0-8d26-9fe518d41d63",
   "metadata": {
    "tags": []
   },
   "outputs": [],
   "source": [
    "with open(model_file, 'rb') as f_in:\n",
    "    dv, model = pickle.load(f_in)"
   ]
  },
  {
   "cell_type": "code",
   "execution_count": 4,
   "id": "82c87db0-4d75-4c03-b35f-5c87f100a074",
   "metadata": {
    "tags": []
   },
   "outputs": [
    {
     "data": {
      "text/plain": [
       "(DictVectorizer(sparse=False), LogisticRegression(max_iter=1000))"
      ]
     },
     "execution_count": 4,
     "metadata": {},
     "output_type": "execute_result"
    }
   ],
   "source": [
    " dv, model"
   ]
  },
  {
   "cell_type": "code",
   "execution_count": 12,
   "id": "6f268bce-b5c0-4a72-a5ee-2762660585e9",
   "metadata": {
    "tags": []
   },
   "outputs": [],
   "source": [
    "customer = {'gender': 'female',\n",
    "         'seniorcitizen': 0,\n",
    "         'partner': 'yes',\n",
    "         'dependents': 'no',\n",
    "         'phoneservice': 'no',\n",
    "         'multiplelines': 'no_phone_service',\n",
    "         'internetservice': 'dsl',\n",
    "         'onlinesecurity': 'no',\n",
    "         'onlinebackup': 'yes',\n",
    "         'deviceprotection': 'no',\n",
    "         'techsupport': 'no',\n",
    "         'streamingtv': 'no',\n",
    "         'streamingmovies': 'no',\n",
    "         'contract': 'month-to-month',\n",
    "         'paperlessbilling': 'yes',\n",
    "         'paymentmethod': 'mailed_check',\n",
    "         'tenure': 1,\n",
    "         'monthlycharges': 29.85,\n",
    "         'totalcharges': 29.85}"
   ]
  },
  {
   "cell_type": "code",
   "execution_count": 13,
   "id": "66d49735-087b-4ad3-a9eb-aec1c5da51dd",
   "metadata": {
    "tags": []
   },
   "outputs": [],
   "source": [
    "X = dv.transform([customer])"
   ]
  },
  {
   "cell_type": "code",
   "execution_count": 14,
   "id": "430dc5a6-5ce9-46b2-b5c8-c14af51e2bdc",
   "metadata": {
    "tags": []
   },
   "outputs": [
    {
     "data": {
      "text/plain": [
       "0.5263335093851205"
      ]
     },
     "execution_count": 14,
     "metadata": {},
     "output_type": "execute_result"
    }
   ],
   "source": [
    "model.predict_proba(X)[0,1]"
   ]
  },
  {
   "cell_type": "code",
   "execution_count": null,
   "id": "a7955443-8140-404b-aa20-aa5eb7459ba3",
   "metadata": {},
   "outputs": [],
   "source": []
  }
 ],
 "metadata": {
  "kernelspec": {
   "display_name": "Python 3 (ipykernel)",
   "language": "python",
   "name": "python3"
  },
  "language_info": {
   "codemirror_mode": {
    "name": "ipython",
    "version": 3
   },
   "file_extension": ".py",
   "mimetype": "text/x-python",
   "name": "python",
   "nbconvert_exporter": "python",
   "pygments_lexer": "ipython3",
   "version": "3.11.5"
  }
 },
 "nbformat": 4,
 "nbformat_minor": 5
}
